{
  "nbformat": 4,
  "nbformat_minor": 0,
  "metadata": {
    "colab": {
      "provenance": []
    },
    "kernelspec": {
      "name": "python3",
      "display_name": "Python 3"
    },
    "language_info": {
      "name": "python"
    }
  },
  "cells": [
    {
      "cell_type": "markdown",
      "source": [
        "TUTORIAL PARA CONVERTER ESCALAS"
      ],
      "metadata": {
        "id": "Pm3mO40Eplu9"
      }
    },
    {
      "cell_type": "code",
      "execution_count": 6,
      "metadata": {
        "id": "2g2N1tZGDxpV"
      },
      "outputs": [],
      "source": [
        "import pandas as pd"
      ]
    },
    {
      "cell_type": "code",
      "source": [
        "!pip install dms2dec -q"
      ],
      "metadata": {
        "id": "w5J_RPLMMxvh"
      },
      "execution_count": 7,
      "outputs": []
    },
    {
      "cell_type": "code",
      "source": [
        "from dms2dec.dms_convert import dms2dec"
      ],
      "metadata": {
        "id": "fDPDL_1PVEmi"
      },
      "execution_count": 8,
      "outputs": []
    },
    {
      "cell_type": "code",
      "source": [
        "dados = pd.read_excel('https://raw.githubusercontent.com/cletofreire/converting_geographic_coordinates/main/data_convert.xlsx',header=0)\n",
        "dados2 = pd.read_excel('https://raw.githubusercontent.com/cletofreire/converting_geographic_coordinates/main/data_convert.xlsx',header=0)\n"
      ],
      "metadata": {
        "id": "Chs_whAnirdZ"
      },
      "execution_count": 9,
      "outputs": []
    },
    {
      "cell_type": "code",
      "source": [
        "dados.info()"
      ],
      "metadata": {
        "id": "DzzhS4wylcAq",
        "colab": {
          "base_uri": "https://localhost:8080/"
        },
        "outputId": "ebd5a02c-4f90-4382-961f-098fb9a7ea69"
      },
      "execution_count": 10,
      "outputs": [
        {
          "output_type": "stream",
          "name": "stdout",
          "text": [
            "<class 'pandas.core.frame.DataFrame'>\n",
            "RangeIndex: 200 entries, 0 to 199\n",
            "Data columns (total 2 columns):\n",
            " #   Column     Non-Null Count  Dtype \n",
            "---  ------     --------------  ----- \n",
            " 0   Latitude   200 non-null    object\n",
            " 1   Longitude  200 non-null    object\n",
            "dtypes: object(2)\n",
            "memory usage: 3.2+ KB\n"
          ]
        }
      ]
    },
    {
      "cell_type": "code",
      "source": [
        "#criando um id\n",
        "dados.reset_index(inplace = True)\n",
        "dados = dados.rename(columns ={'index':'id'})"
      ],
      "metadata": {
        "id": "aDVVKXsCwOap"
      },
      "execution_count": 11,
      "outputs": []
    },
    {
      "cell_type": "code",
      "source": [
        "# id para os dados2\n",
        "dados2.reset_index(inplace = True)\n",
        "dados2 = dados.rename(columns ={'index':'id'})"
      ],
      "metadata": {
        "id": "9rEILkh_e0IL"
      },
      "execution_count": 12,
      "outputs": []
    },
    {
      "cell_type": "code",
      "source": [
        "#Observando se há vazio\n",
        "print(dados.isnull().sum())\n"
      ],
      "metadata": {
        "id": "fftnHk4jlBGg",
        "colab": {
          "base_uri": "https://localhost:8080/"
        },
        "outputId": "30a76c0f-57d3-476b-c455-cc73667f2a7a"
      },
      "execution_count": 13,
      "outputs": [
        {
          "output_type": "stream",
          "name": "stdout",
          "text": [
            "id           0\n",
            "Latitude     0\n",
            "Longitude    0\n",
            "dtype: int64\n"
          ]
        }
      ]
    },
    {
      "cell_type": "code",
      "source": [
        "#Observando as linhas que possuem dados vazios\n",
        "linhas_vazias = dados[dados.isnull().any(axis=1)]\n",
        "print(linhas_vazias)"
      ],
      "metadata": {
        "colab": {
          "base_uri": "https://localhost:8080/"
        },
        "id": "FtvquZGYhhmL",
        "outputId": "a567c78e-68c1-48e5-c87a-c82a426bcae6"
      },
      "execution_count": 14,
      "outputs": [
        {
          "output_type": "stream",
          "name": "stdout",
          "text": [
            "Empty DataFrame\n",
            "Columns: [id, Latitude, Longitude]\n",
            "Index: []\n"
          ]
        }
      ]
    },
    {
      "cell_type": "code",
      "source": [
        "dados2.info()"
      ],
      "metadata": {
        "id": "X18Hw3DnGXr2",
        "colab": {
          "base_uri": "https://localhost:8080/"
        },
        "outputId": "adcb191b-2e0a-4d25-8b6d-a422b531781a"
      },
      "execution_count": 15,
      "outputs": [
        {
          "output_type": "stream",
          "name": "stdout",
          "text": [
            "<class 'pandas.core.frame.DataFrame'>\n",
            "RangeIndex: 200 entries, 0 to 199\n",
            "Data columns (total 3 columns):\n",
            " #   Column     Non-Null Count  Dtype \n",
            "---  ------     --------------  ----- \n",
            " 0   id         200 non-null    int64 \n",
            " 1   Latitude   200 non-null    object\n",
            " 2   Longitude  200 non-null    object\n",
            "dtypes: int64(1), object(2)\n",
            "memory usage: 4.8+ KB\n"
          ]
        }
      ]
    },
    {
      "cell_type": "code",
      "source": [
        "#Selecionando apenas os dados que estão em grau_minuto_segundo\n",
        "#Latitude\n",
        "dados['Latitude_GMS'] = dados['Latitude'].astype(str)\n",
        "dados= dados[dados['Latitude_GMS'].str.contains(\"[°'\\\"']\", regex=True)]"
      ],
      "metadata": {
        "id": "h4WD5UlGVA3i"
      },
      "execution_count": 16,
      "outputs": []
    },
    {
      "cell_type": "code",
      "source": [
        "#Longitude\n",
        "dados['Longitude_GMS'] = dados['Longitude'].astype(str)\n",
        "dados= dados[dados['Longitude_GMS'].str.contains(\"[°'\\\"']\", regex=True)]\n"
      ],
      "metadata": {
        "id": "AO1wVlkZo9_Z"
      },
      "execution_count": 17,
      "outputs": []
    },
    {
      "cell_type": "code",
      "source": [
        "# Criei uma função onde substitui os valores desejados para ficar no formato limpo\n",
        "def remover_os_simbolos(remover):\n",
        "    return remover.replace('°', ' ').replace ('\\'', ' ').replace('\\\"', ' ')"
      ],
      "metadata": {
        "id": "02mJyhP2iVjw"
      },
      "execution_count": 18,
      "outputs": []
    },
    {
      "cell_type": "code",
      "source": [
        "dados['Latitude_GMS'] = dados['Latitude_GMS'].apply(remover_os_simbolos)\n",
        "dados['Longitude_GMS'] = dados['Longitude_GMS'].apply(remover_os_simbolos)\n"
      ],
      "metadata": {
        "id": "CwlKcWYPjMCK"
      },
      "execution_count": 19,
      "outputs": []
    },
    {
      "cell_type": "code",
      "source": [
        "# convertendo para Graus_decimaism\n",
        "dados['Latitude_GD'] = dados['Latitude_GMS'].apply(dms2dec)\n",
        "dados['Longitude_GD'] = dados['Longitude_GMS'].apply(dms2dec)\n"
      ],
      "metadata": {
        "id": "bSuAu7I1lHIR"
      },
      "execution_count": 20,
      "outputs": []
    },
    {
      "cell_type": "code",
      "source": [
        "dados.head(3)"
      ],
      "metadata": {
        "id": "C4kD8TQCdYOw",
        "colab": {
          "base_uri": "https://localhost:8080/",
          "height": 143
        },
        "outputId": "94657c58-f2b7-4c7d-c51a-f84a9073c3c6"
      },
      "execution_count": 21,
      "outputs": [
        {
          "output_type": "execute_result",
          "data": {
            "text/plain": [
              "   id   Latitude  Longitude Latitude_GMS Longitude_GMS  Latitude_GD  \\\n",
              "0   0  01°23'45\"  72°34'56\"    01 23 45      72 34 56       12345.0   \n",
              "1   1  02°34'56\"  63°45'34\"    02 34 56      63 45 34       23456.0   \n",
              "2   2  03°45'23\"  54°23'12\"    03 45 23      54 23 12       34523.0   \n",
              "\n",
              "   Longitude_GD  \n",
              "0      723456.0  \n",
              "1      634534.0  \n",
              "2      542312.0  "
            ],
            "text/html": [
              "\n",
              "  <div id=\"df-b2da7ff0-04e9-4a03-b931-a26e6f9a0d64\">\n",
              "    <div class=\"colab-df-container\">\n",
              "      <div>\n",
              "<style scoped>\n",
              "    .dataframe tbody tr th:only-of-type {\n",
              "        vertical-align: middle;\n",
              "    }\n",
              "\n",
              "    .dataframe tbody tr th {\n",
              "        vertical-align: top;\n",
              "    }\n",
              "\n",
              "    .dataframe thead th {\n",
              "        text-align: right;\n",
              "    }\n",
              "</style>\n",
              "<table border=\"1\" class=\"dataframe\">\n",
              "  <thead>\n",
              "    <tr style=\"text-align: right;\">\n",
              "      <th></th>\n",
              "      <th>id</th>\n",
              "      <th>Latitude</th>\n",
              "      <th>Longitude</th>\n",
              "      <th>Latitude_GMS</th>\n",
              "      <th>Longitude_GMS</th>\n",
              "      <th>Latitude_GD</th>\n",
              "      <th>Longitude_GD</th>\n",
              "    </tr>\n",
              "  </thead>\n",
              "  <tbody>\n",
              "    <tr>\n",
              "      <th>0</th>\n",
              "      <td>0</td>\n",
              "      <td>01°23'45\"</td>\n",
              "      <td>72°34'56\"</td>\n",
              "      <td>01 23 45</td>\n",
              "      <td>72 34 56</td>\n",
              "      <td>12345.0</td>\n",
              "      <td>723456.0</td>\n",
              "    </tr>\n",
              "    <tr>\n",
              "      <th>1</th>\n",
              "      <td>1</td>\n",
              "      <td>02°34'56\"</td>\n",
              "      <td>63°45'34\"</td>\n",
              "      <td>02 34 56</td>\n",
              "      <td>63 45 34</td>\n",
              "      <td>23456.0</td>\n",
              "      <td>634534.0</td>\n",
              "    </tr>\n",
              "    <tr>\n",
              "      <th>2</th>\n",
              "      <td>2</td>\n",
              "      <td>03°45'23\"</td>\n",
              "      <td>54°23'12\"</td>\n",
              "      <td>03 45 23</td>\n",
              "      <td>54 23 12</td>\n",
              "      <td>34523.0</td>\n",
              "      <td>542312.0</td>\n",
              "    </tr>\n",
              "  </tbody>\n",
              "</table>\n",
              "</div>\n",
              "      <button class=\"colab-df-convert\" onclick=\"convertToInteractive('df-b2da7ff0-04e9-4a03-b931-a26e6f9a0d64')\"\n",
              "              title=\"Convert this dataframe to an interactive table.\"\n",
              "              style=\"display:none;\">\n",
              "        \n",
              "  <svg xmlns=\"http://www.w3.org/2000/svg\" height=\"24px\"viewBox=\"0 0 24 24\"\n",
              "       width=\"24px\">\n",
              "    <path d=\"M0 0h24v24H0V0z\" fill=\"none\"/>\n",
              "    <path d=\"M18.56 5.44l.94 2.06.94-2.06 2.06-.94-2.06-.94-.94-2.06-.94 2.06-2.06.94zm-11 1L8.5 8.5l.94-2.06 2.06-.94-2.06-.94L8.5 2.5l-.94 2.06-2.06.94zm10 10l.94 2.06.94-2.06 2.06-.94-2.06-.94-.94-2.06-.94 2.06-2.06.94z\"/><path d=\"M17.41 7.96l-1.37-1.37c-.4-.4-.92-.59-1.43-.59-.52 0-1.04.2-1.43.59L10.3 9.45l-7.72 7.72c-.78.78-.78 2.05 0 2.83L4 21.41c.39.39.9.59 1.41.59.51 0 1.02-.2 1.41-.59l7.78-7.78 2.81-2.81c.8-.78.8-2.07 0-2.86zM5.41 20L4 18.59l7.72-7.72 1.47 1.35L5.41 20z\"/>\n",
              "  </svg>\n",
              "      </button>\n",
              "      \n",
              "  <style>\n",
              "    .colab-df-container {\n",
              "      display:flex;\n",
              "      flex-wrap:wrap;\n",
              "      gap: 12px;\n",
              "    }\n",
              "\n",
              "    .colab-df-convert {\n",
              "      background-color: #E8F0FE;\n",
              "      border: none;\n",
              "      border-radius: 50%;\n",
              "      cursor: pointer;\n",
              "      display: none;\n",
              "      fill: #1967D2;\n",
              "      height: 32px;\n",
              "      padding: 0 0 0 0;\n",
              "      width: 32px;\n",
              "    }\n",
              "\n",
              "    .colab-df-convert:hover {\n",
              "      background-color: #E2EBFA;\n",
              "      box-shadow: 0px 1px 2px rgba(60, 64, 67, 0.3), 0px 1px 3px 1px rgba(60, 64, 67, 0.15);\n",
              "      fill: #174EA6;\n",
              "    }\n",
              "\n",
              "    [theme=dark] .colab-df-convert {\n",
              "      background-color: #3B4455;\n",
              "      fill: #D2E3FC;\n",
              "    }\n",
              "\n",
              "    [theme=dark] .colab-df-convert:hover {\n",
              "      background-color: #434B5C;\n",
              "      box-shadow: 0px 1px 3px 1px rgba(0, 0, 0, 0.15);\n",
              "      filter: drop-shadow(0px 1px 2px rgba(0, 0, 0, 0.3));\n",
              "      fill: #FFFFFF;\n",
              "    }\n",
              "  </style>\n",
              "\n",
              "      <script>\n",
              "        const buttonEl =\n",
              "          document.querySelector('#df-b2da7ff0-04e9-4a03-b931-a26e6f9a0d64 button.colab-df-convert');\n",
              "        buttonEl.style.display =\n",
              "          google.colab.kernel.accessAllowed ? 'block' : 'none';\n",
              "\n",
              "        async function convertToInteractive(key) {\n",
              "          const element = document.querySelector('#df-b2da7ff0-04e9-4a03-b931-a26e6f9a0d64');\n",
              "          const dataTable =\n",
              "            await google.colab.kernel.invokeFunction('convertToInteractive',\n",
              "                                                     [key], {});\n",
              "          if (!dataTable) return;\n",
              "\n",
              "          const docLinkHtml = 'Like what you see? Visit the ' +\n",
              "            '<a target=\"_blank\" href=https://colab.research.google.com/notebooks/data_table.ipynb>data table notebook</a>'\n",
              "            + ' to learn more about interactive tables.';\n",
              "          element.innerHTML = '';\n",
              "          dataTable['output_type'] = 'display_data';\n",
              "          await google.colab.output.renderOutput(dataTable, element);\n",
              "          const docLink = document.createElement('div');\n",
              "          docLink.innerHTML = docLinkHtml;\n",
              "          element.appendChild(docLink);\n",
              "        }\n",
              "      </script>\n",
              "    </div>\n",
              "  </div>\n",
              "  "
            ]
          },
          "metadata": {},
          "execution_count": 21
        }
      ]
    },
    {
      "cell_type": "code",
      "source": [
        "def adicionar_sinal(valor):\n",
        "    if valor < 0:\n",
        "        return valor\n",
        "    else:\n",
        "        return '-' + str(valor)"
      ],
      "metadata": {
        "id": "h_qWcFC_Gwyi"
      },
      "execution_count": 22,
      "outputs": []
    },
    {
      "cell_type": "code",
      "source": [
        "# aplicar a função lambda para adicionar um sinal de menos na frente de todos os valores em 'Latitude_GD' e 'Longitude_GD' que não possuem um sinal de menos\n",
        "dados['Latitude_GD'] = dados['Latitude_GD'].apply(lambda x: adicionar_sinal(x))\n",
        "dados['Longitude_GD'] = dados['Longitude_GD'].apply(lambda x: adicionar_sinal(x))"
      ],
      "metadata": {
        "id": "l_OZZwZrGxNt"
      },
      "execution_count": 23,
      "outputs": []
    },
    {
      "cell_type": "code",
      "source": [
        "dados.head(3)"
      ],
      "metadata": {
        "colab": {
          "base_uri": "https://localhost:8080/",
          "height": 143
        },
        "id": "wOWmV9bt5qzJ",
        "outputId": "4eb8c280-f778-4af0-eb16-c154f1ab5f3c"
      },
      "execution_count": 24,
      "outputs": [
        {
          "output_type": "execute_result",
          "data": {
            "text/plain": [
              "   id   Latitude  Longitude Latitude_GMS Longitude_GMS Latitude_GD  \\\n",
              "0   0  01°23'45\"  72°34'56\"    01 23 45      72 34 56     -12345.0   \n",
              "1   1  02°34'56\"  63°45'34\"    02 34 56      63 45 34     -23456.0   \n",
              "2   2  03°45'23\"  54°23'12\"    03 45 23      54 23 12     -34523.0   \n",
              "\n",
              "  Longitude_GD  \n",
              "0    -723456.0  \n",
              "1    -634534.0  \n",
              "2    -542312.0  "
            ],
            "text/html": [
              "\n",
              "  <div id=\"df-81b0d74a-59b0-47ec-934b-9486c40b1efe\">\n",
              "    <div class=\"colab-df-container\">\n",
              "      <div>\n",
              "<style scoped>\n",
              "    .dataframe tbody tr th:only-of-type {\n",
              "        vertical-align: middle;\n",
              "    }\n",
              "\n",
              "    .dataframe tbody tr th {\n",
              "        vertical-align: top;\n",
              "    }\n",
              "\n",
              "    .dataframe thead th {\n",
              "        text-align: right;\n",
              "    }\n",
              "</style>\n",
              "<table border=\"1\" class=\"dataframe\">\n",
              "  <thead>\n",
              "    <tr style=\"text-align: right;\">\n",
              "      <th></th>\n",
              "      <th>id</th>\n",
              "      <th>Latitude</th>\n",
              "      <th>Longitude</th>\n",
              "      <th>Latitude_GMS</th>\n",
              "      <th>Longitude_GMS</th>\n",
              "      <th>Latitude_GD</th>\n",
              "      <th>Longitude_GD</th>\n",
              "    </tr>\n",
              "  </thead>\n",
              "  <tbody>\n",
              "    <tr>\n",
              "      <th>0</th>\n",
              "      <td>0</td>\n",
              "      <td>01°23'45\"</td>\n",
              "      <td>72°34'56\"</td>\n",
              "      <td>01 23 45</td>\n",
              "      <td>72 34 56</td>\n",
              "      <td>-12345.0</td>\n",
              "      <td>-723456.0</td>\n",
              "    </tr>\n",
              "    <tr>\n",
              "      <th>1</th>\n",
              "      <td>1</td>\n",
              "      <td>02°34'56\"</td>\n",
              "      <td>63°45'34\"</td>\n",
              "      <td>02 34 56</td>\n",
              "      <td>63 45 34</td>\n",
              "      <td>-23456.0</td>\n",
              "      <td>-634534.0</td>\n",
              "    </tr>\n",
              "    <tr>\n",
              "      <th>2</th>\n",
              "      <td>2</td>\n",
              "      <td>03°45'23\"</td>\n",
              "      <td>54°23'12\"</td>\n",
              "      <td>03 45 23</td>\n",
              "      <td>54 23 12</td>\n",
              "      <td>-34523.0</td>\n",
              "      <td>-542312.0</td>\n",
              "    </tr>\n",
              "  </tbody>\n",
              "</table>\n",
              "</div>\n",
              "      <button class=\"colab-df-convert\" onclick=\"convertToInteractive('df-81b0d74a-59b0-47ec-934b-9486c40b1efe')\"\n",
              "              title=\"Convert this dataframe to an interactive table.\"\n",
              "              style=\"display:none;\">\n",
              "        \n",
              "  <svg xmlns=\"http://www.w3.org/2000/svg\" height=\"24px\"viewBox=\"0 0 24 24\"\n",
              "       width=\"24px\">\n",
              "    <path d=\"M0 0h24v24H0V0z\" fill=\"none\"/>\n",
              "    <path d=\"M18.56 5.44l.94 2.06.94-2.06 2.06-.94-2.06-.94-.94-2.06-.94 2.06-2.06.94zm-11 1L8.5 8.5l.94-2.06 2.06-.94-2.06-.94L8.5 2.5l-.94 2.06-2.06.94zm10 10l.94 2.06.94-2.06 2.06-.94-2.06-.94-.94-2.06-.94 2.06-2.06.94z\"/><path d=\"M17.41 7.96l-1.37-1.37c-.4-.4-.92-.59-1.43-.59-.52 0-1.04.2-1.43.59L10.3 9.45l-7.72 7.72c-.78.78-.78 2.05 0 2.83L4 21.41c.39.39.9.59 1.41.59.51 0 1.02-.2 1.41-.59l7.78-7.78 2.81-2.81c.8-.78.8-2.07 0-2.86zM5.41 20L4 18.59l7.72-7.72 1.47 1.35L5.41 20z\"/>\n",
              "  </svg>\n",
              "      </button>\n",
              "      \n",
              "  <style>\n",
              "    .colab-df-container {\n",
              "      display:flex;\n",
              "      flex-wrap:wrap;\n",
              "      gap: 12px;\n",
              "    }\n",
              "\n",
              "    .colab-df-convert {\n",
              "      background-color: #E8F0FE;\n",
              "      border: none;\n",
              "      border-radius: 50%;\n",
              "      cursor: pointer;\n",
              "      display: none;\n",
              "      fill: #1967D2;\n",
              "      height: 32px;\n",
              "      padding: 0 0 0 0;\n",
              "      width: 32px;\n",
              "    }\n",
              "\n",
              "    .colab-df-convert:hover {\n",
              "      background-color: #E2EBFA;\n",
              "      box-shadow: 0px 1px 2px rgba(60, 64, 67, 0.3), 0px 1px 3px 1px rgba(60, 64, 67, 0.15);\n",
              "      fill: #174EA6;\n",
              "    }\n",
              "\n",
              "    [theme=dark] .colab-df-convert {\n",
              "      background-color: #3B4455;\n",
              "      fill: #D2E3FC;\n",
              "    }\n",
              "\n",
              "    [theme=dark] .colab-df-convert:hover {\n",
              "      background-color: #434B5C;\n",
              "      box-shadow: 0px 1px 3px 1px rgba(0, 0, 0, 0.15);\n",
              "      filter: drop-shadow(0px 1px 2px rgba(0, 0, 0, 0.3));\n",
              "      fill: #FFFFFF;\n",
              "    }\n",
              "  </style>\n",
              "\n",
              "      <script>\n",
              "        const buttonEl =\n",
              "          document.querySelector('#df-81b0d74a-59b0-47ec-934b-9486c40b1efe button.colab-df-convert');\n",
              "        buttonEl.style.display =\n",
              "          google.colab.kernel.accessAllowed ? 'block' : 'none';\n",
              "\n",
              "        async function convertToInteractive(key) {\n",
              "          const element = document.querySelector('#df-81b0d74a-59b0-47ec-934b-9486c40b1efe');\n",
              "          const dataTable =\n",
              "            await google.colab.kernel.invokeFunction('convertToInteractive',\n",
              "                                                     [key], {});\n",
              "          if (!dataTable) return;\n",
              "\n",
              "          const docLinkHtml = 'Like what you see? Visit the ' +\n",
              "            '<a target=\"_blank\" href=https://colab.research.google.com/notebooks/data_table.ipynb>data table notebook</a>'\n",
              "            + ' to learn more about interactive tables.';\n",
              "          element.innerHTML = '';\n",
              "          dataTable['output_type'] = 'display_data';\n",
              "          await google.colab.output.renderOutput(dataTable, element);\n",
              "          const docLink = document.createElement('div');\n",
              "          docLink.innerHTML = docLinkHtml;\n",
              "          element.appendChild(docLink);\n",
              "        }\n",
              "      </script>\n",
              "    </div>\n",
              "  </div>\n",
              "  "
            ]
          },
          "metadata": {},
          "execution_count": 24
        }
      ]
    },
    {
      "cell_type": "code",
      "source": [
        "# Unindo os dois dataframes usando a coluna 'id' como chave e uma junção externa\n",
        "dados_unidos = dados2.merge(dados, on='id', how='outer')\n",
        "\n"
      ],
      "metadata": {
        "id": "aQZ5RFyi5iwS"
      },
      "execution_count": 25,
      "outputs": []
    },
    {
      "cell_type": "code",
      "source": [
        "# Preenchendo os valores faltantes de Latitude_GD com os valores correspondentes de Latitude\n",
        "dados_unidos['Latitude_GD'] = dados_unidos['Latitude_GD'].fillna(dados_unidos['Latitude_x'])\n",
        "\n"
      ],
      "metadata": {
        "id": "4OoDIWli5izA"
      },
      "execution_count": 26,
      "outputs": []
    },
    {
      "cell_type": "code",
      "source": [
        "# Preenchendo os valores faltantes de Longitude_GD com os valores correspondentes de Longitude\n",
        "dados_unidos['Longitude_GD'] = dados_unidos['Longitude_GD'].fillna(dados_unidos['Longitude_x'])\n",
        "\n"
      ],
      "metadata": {
        "id": "aVv3j2FofWhL"
      },
      "execution_count": 27,
      "outputs": []
    },
    {
      "cell_type": "code",
      "source": [
        "# Descartando as colunas 'Latitude' e 'Longitude' se desejado\n",
        "dados_unidos = dados_unidos.drop(['Latitude_x', 'Longitude_x'], axis=1)\n",
        "\n"
      ],
      "metadata": {
        "id": "zg7wwJj_fWj4"
      },
      "execution_count": 28,
      "outputs": []
    },
    {
      "cell_type": "code",
      "source": [
        "# Mostrando o dataframe unido\n",
        "dados_unidos.info()"
      ],
      "metadata": {
        "colab": {
          "base_uri": "https://localhost:8080/"
        },
        "id": "Be9y76CXfWnS",
        "outputId": "c2a47ef9-bd66-4447-dac0-4ad642d806e2"
      },
      "execution_count": 29,
      "outputs": [
        {
          "output_type": "stream",
          "name": "stdout",
          "text": [
            "<class 'pandas.core.frame.DataFrame'>\n",
            "Int64Index: 200 entries, 0 to 199\n",
            "Data columns (total 7 columns):\n",
            " #   Column         Non-Null Count  Dtype \n",
            "---  ------         --------------  ----- \n",
            " 0   id             200 non-null    int64 \n",
            " 1   Latitude_y     146 non-null    object\n",
            " 2   Longitude_y    146 non-null    object\n",
            " 3   Latitude_GMS   146 non-null    object\n",
            " 4   Longitude_GMS  146 non-null    object\n",
            " 5   Latitude_GD    200 non-null    object\n",
            " 6   Longitude_GD   200 non-null    object\n",
            "dtypes: int64(1), object(6)\n",
            "memory usage: 12.5+ KB\n"
          ]
        }
      ]
    },
    {
      "cell_type": "code",
      "source": [
        "dados_unidos.head()"
      ],
      "metadata": {
        "id": "jnZkLAay8WKb",
        "colab": {
          "base_uri": "https://localhost:8080/",
          "height": 206
        },
        "outputId": "4a7cf552-31b2-4233-c51e-30e91db6c45a"
      },
      "execution_count": 30,
      "outputs": [
        {
          "output_type": "execute_result",
          "data": {
            "text/plain": [
              "   id Latitude_y Longitude_y Latitude_GMS Longitude_GMS Latitude_GD  \\\n",
              "0   0  01°23'45\"   72°34'56\"    01 23 45      72 34 56     -12345.0   \n",
              "1   1  02°34'56\"   63°45'34\"    02 34 56      63 45 34     -23456.0   \n",
              "2   2  03°45'23\"   54°23'12\"    03 45 23      54 23 12     -34523.0   \n",
              "3   3  04°56'34\"   45°34'56\"    04 56 34      45 34 56     -45634.0   \n",
              "4   4  05°12'34\"   36°45'23\"    05 12 34      36 45 23     -51234.0   \n",
              "\n",
              "  Longitude_GD  \n",
              "0    -723456.0  \n",
              "1    -634534.0  \n",
              "2    -542312.0  \n",
              "3    -453456.0  \n",
              "4    -364523.0  "
            ],
            "text/html": [
              "\n",
              "  <div id=\"df-1a5c8f68-4584-451d-8142-7a8e1a88c107\">\n",
              "    <div class=\"colab-df-container\">\n",
              "      <div>\n",
              "<style scoped>\n",
              "    .dataframe tbody tr th:only-of-type {\n",
              "        vertical-align: middle;\n",
              "    }\n",
              "\n",
              "    .dataframe tbody tr th {\n",
              "        vertical-align: top;\n",
              "    }\n",
              "\n",
              "    .dataframe thead th {\n",
              "        text-align: right;\n",
              "    }\n",
              "</style>\n",
              "<table border=\"1\" class=\"dataframe\">\n",
              "  <thead>\n",
              "    <tr style=\"text-align: right;\">\n",
              "      <th></th>\n",
              "      <th>id</th>\n",
              "      <th>Latitude_y</th>\n",
              "      <th>Longitude_y</th>\n",
              "      <th>Latitude_GMS</th>\n",
              "      <th>Longitude_GMS</th>\n",
              "      <th>Latitude_GD</th>\n",
              "      <th>Longitude_GD</th>\n",
              "    </tr>\n",
              "  </thead>\n",
              "  <tbody>\n",
              "    <tr>\n",
              "      <th>0</th>\n",
              "      <td>0</td>\n",
              "      <td>01°23'45\"</td>\n",
              "      <td>72°34'56\"</td>\n",
              "      <td>01 23 45</td>\n",
              "      <td>72 34 56</td>\n",
              "      <td>-12345.0</td>\n",
              "      <td>-723456.0</td>\n",
              "    </tr>\n",
              "    <tr>\n",
              "      <th>1</th>\n",
              "      <td>1</td>\n",
              "      <td>02°34'56\"</td>\n",
              "      <td>63°45'34\"</td>\n",
              "      <td>02 34 56</td>\n",
              "      <td>63 45 34</td>\n",
              "      <td>-23456.0</td>\n",
              "      <td>-634534.0</td>\n",
              "    </tr>\n",
              "    <tr>\n",
              "      <th>2</th>\n",
              "      <td>2</td>\n",
              "      <td>03°45'23\"</td>\n",
              "      <td>54°23'12\"</td>\n",
              "      <td>03 45 23</td>\n",
              "      <td>54 23 12</td>\n",
              "      <td>-34523.0</td>\n",
              "      <td>-542312.0</td>\n",
              "    </tr>\n",
              "    <tr>\n",
              "      <th>3</th>\n",
              "      <td>3</td>\n",
              "      <td>04°56'34\"</td>\n",
              "      <td>45°34'56\"</td>\n",
              "      <td>04 56 34</td>\n",
              "      <td>45 34 56</td>\n",
              "      <td>-45634.0</td>\n",
              "      <td>-453456.0</td>\n",
              "    </tr>\n",
              "    <tr>\n",
              "      <th>4</th>\n",
              "      <td>4</td>\n",
              "      <td>05°12'34\"</td>\n",
              "      <td>36°45'23\"</td>\n",
              "      <td>05 12 34</td>\n",
              "      <td>36 45 23</td>\n",
              "      <td>-51234.0</td>\n",
              "      <td>-364523.0</td>\n",
              "    </tr>\n",
              "  </tbody>\n",
              "</table>\n",
              "</div>\n",
              "      <button class=\"colab-df-convert\" onclick=\"convertToInteractive('df-1a5c8f68-4584-451d-8142-7a8e1a88c107')\"\n",
              "              title=\"Convert this dataframe to an interactive table.\"\n",
              "              style=\"display:none;\">\n",
              "        \n",
              "  <svg xmlns=\"http://www.w3.org/2000/svg\" height=\"24px\"viewBox=\"0 0 24 24\"\n",
              "       width=\"24px\">\n",
              "    <path d=\"M0 0h24v24H0V0z\" fill=\"none\"/>\n",
              "    <path d=\"M18.56 5.44l.94 2.06.94-2.06 2.06-.94-2.06-.94-.94-2.06-.94 2.06-2.06.94zm-11 1L8.5 8.5l.94-2.06 2.06-.94-2.06-.94L8.5 2.5l-.94 2.06-2.06.94zm10 10l.94 2.06.94-2.06 2.06-.94-2.06-.94-.94-2.06-.94 2.06-2.06.94z\"/><path d=\"M17.41 7.96l-1.37-1.37c-.4-.4-.92-.59-1.43-.59-.52 0-1.04.2-1.43.59L10.3 9.45l-7.72 7.72c-.78.78-.78 2.05 0 2.83L4 21.41c.39.39.9.59 1.41.59.51 0 1.02-.2 1.41-.59l7.78-7.78 2.81-2.81c.8-.78.8-2.07 0-2.86zM5.41 20L4 18.59l7.72-7.72 1.47 1.35L5.41 20z\"/>\n",
              "  </svg>\n",
              "      </button>\n",
              "      \n",
              "  <style>\n",
              "    .colab-df-container {\n",
              "      display:flex;\n",
              "      flex-wrap:wrap;\n",
              "      gap: 12px;\n",
              "    }\n",
              "\n",
              "    .colab-df-convert {\n",
              "      background-color: #E8F0FE;\n",
              "      border: none;\n",
              "      border-radius: 50%;\n",
              "      cursor: pointer;\n",
              "      display: none;\n",
              "      fill: #1967D2;\n",
              "      height: 32px;\n",
              "      padding: 0 0 0 0;\n",
              "      width: 32px;\n",
              "    }\n",
              "\n",
              "    .colab-df-convert:hover {\n",
              "      background-color: #E2EBFA;\n",
              "      box-shadow: 0px 1px 2px rgba(60, 64, 67, 0.3), 0px 1px 3px 1px rgba(60, 64, 67, 0.15);\n",
              "      fill: #174EA6;\n",
              "    }\n",
              "\n",
              "    [theme=dark] .colab-df-convert {\n",
              "      background-color: #3B4455;\n",
              "      fill: #D2E3FC;\n",
              "    }\n",
              "\n",
              "    [theme=dark] .colab-df-convert:hover {\n",
              "      background-color: #434B5C;\n",
              "      box-shadow: 0px 1px 3px 1px rgba(0, 0, 0, 0.15);\n",
              "      filter: drop-shadow(0px 1px 2px rgba(0, 0, 0, 0.3));\n",
              "      fill: #FFFFFF;\n",
              "    }\n",
              "  </style>\n",
              "\n",
              "      <script>\n",
              "        const buttonEl =\n",
              "          document.querySelector('#df-1a5c8f68-4584-451d-8142-7a8e1a88c107 button.colab-df-convert');\n",
              "        buttonEl.style.display =\n",
              "          google.colab.kernel.accessAllowed ? 'block' : 'none';\n",
              "\n",
              "        async function convertToInteractive(key) {\n",
              "          const element = document.querySelector('#df-1a5c8f68-4584-451d-8142-7a8e1a88c107');\n",
              "          const dataTable =\n",
              "            await google.colab.kernel.invokeFunction('convertToInteractive',\n",
              "                                                     [key], {});\n",
              "          if (!dataTable) return;\n",
              "\n",
              "          const docLinkHtml = 'Like what you see? Visit the ' +\n",
              "            '<a target=\"_blank\" href=https://colab.research.google.com/notebooks/data_table.ipynb>data table notebook</a>'\n",
              "            + ' to learn more about interactive tables.';\n",
              "          element.innerHTML = '';\n",
              "          dataTable['output_type'] = 'display_data';\n",
              "          await google.colab.output.renderOutput(dataTable, element);\n",
              "          const docLink = document.createElement('div');\n",
              "          docLink.innerHTML = docLinkHtml;\n",
              "          element.appendChild(docLink);\n",
              "        }\n",
              "      </script>\n",
              "    </div>\n",
              "  </div>\n",
              "  "
            ]
          },
          "metadata": {},
          "execution_count": 30
        }
      ]
    },
    {
      "cell_type": "markdown",
      "source": [],
      "metadata": {
        "id": "s35zhf7NvTi-"
      }
    },
    {
      "cell_type": "code",
      "source": [
        "# Save\n",
        "dados_unidos.to_excel('dados_convertidos.xlsx', index=False)\n"
      ],
      "metadata": {
        "id": "swjEtGOmvm8j"
      },
      "execution_count": 31,
      "outputs": []
    }
  ]
}